{
 "cells": [
  {
   "cell_type": "code",
   "execution_count": null,
   "metadata": {},
   "outputs": [],
   "source": [
    "import math\n",
    "\n",
    "print(\"RC Column Designer v0.2\")\n",
    "\n",
    "width = float(input(\"Column Width: \"))\n",
    "depth = float(input(\"Column Depth: \"))\n",
    "area = width * depth\n",
    "\n",
    "print(\"Column Area = \") \n",
    "print(area)\n",
    "\n",
    "l_clear = float(input(\"Clear height: \"))\n",
    "k_top = float(input(\"k (top): \"))\n",
    "k_bot = float(input(\"k (base): \"))\n",
    "braced = input(\"Braced? (yes/no): \")\n",
    "\n",
    "if braced == \"yes\":\n",
    "    l_eff = 0.5*l_clear * math.sqrt((1 + k_top/(0.45+k_top)) * (1 + k_bot/(0.45+k_top)))\n",
    "else:\n",
    "    l_eff = l_clear * max(math.sqrt(1 + 10*k_top*k_bot/(k_top+k_bot)), (1 + k_top/(1+k_top)) * (1 + k_bot/(1+k_bot)))\n",
    "\n",
    "print(\"Effective Length = \")\n",
    "print(round(l_eff,1))\n"
   ]
  },
  {
   "cell_type": "code",
   "execution_count": null,
   "metadata": {},
   "outputs": [],
   "source": [
    "# TENSION REINFORCEMENT BEAM  TO EN BS 1992-EC2"
   ]
  },
  {
   "cell_type": "code",
   "execution_count": 11,
   "metadata": {},
   "outputs": [
    {
     "name": "stdout",
     "output_type": "stream",
     "text": [
      "RC Beam Designer v0.001\n",
      "Beam Width: 230\n",
      "Beam Depth: 490\n",
      "Beam Bending Moment Value: 165e6\n",
      "Characteristic Concrete Strength: 25\n",
      "Steel Yield Strength: 500\n",
      "Commercial Rebar Diameter: 20\n",
      " Value of pi: 3.1416\n",
      "k = \n",
      "0.12\n",
      "z= \n",
      "431.33\n",
      " Area of Bar = \n",
      "314.2\n",
      "As = \n",
      "879.4\n",
      "Calculate  number of rebars = \n",
      "2.8\n"
     ]
    }
   ],
   "source": [
    "import math\n",
    "\n",
    "print(\"RC Beam Designer v0.001\")\n",
    "\n",
    "width = float(input(\"Beam Width: \"))         # in mm\n",
    "depth = float(input(\"Beam Depth: \"))          # in mm\n",
    "bendingmoment = float(input(\"Beam Bending Moment Value: \"))  # in kN.m\n",
    "concretestrength = float(input(\"Characteristic Concrete Strength: \"))  # in N/mm^2\n",
    "steelstrength = float(input(\"Steel Yield Strength: \"))   # in N/mm^2\n",
    "rebardiameter =  float(input(\"Commercial Rebar Diameter: \"))  # in mm\n",
    "pi =  float(input(\" Value of pi: \"))     # trigonometric  constant\n",
    "tensionreinforcement =  input(\"Rebarintesion? (yes/no): \")\n",
    "\n",
    "k = bendingmoment/(width * pow(depth,2)* concretestrength )\n",
    "\n",
    "print(\"k = \") \n",
    "print(round(k,2))\n",
    "\n",
    "z = depth * ( 0.5 + math.sqrt(0.25 - k/1.134))\n",
    "print(\"z= \")\n",
    "print(round(z,2))\n",
    "\n",
    "# Commercial rebar area\n",
    "arearebar = pi * pow(rebardiameter,2)/4\n",
    "print(\" Area of Bar = \")\n",
    "print(round(arearebar,1))\n",
    "\n",
    "#CALCULATE  REINFORCEMENT REQUIRED  \"As\"\n",
    "\n",
    "As = bendingmoment/(0.87 * steelstrength*z)\n",
    "print(\"As = \")\n",
    "print(round(As,1))\n",
    "\n",
    "#NUMBER OF BARS\n",
    "numberofbars = As/arearebar\n",
    "print(\"Calculate  number of rebars = \")\n",
    "print(round(numberofbars,1))\n"
   ]
  },
  {
   "cell_type": "code",
   "execution_count": null,
   "metadata": {},
   "outputs": [],
   "source": []
  }
 ],
 "metadata": {
  "kernelspec": {
   "display_name": "Python 3",
   "language": "python",
   "name": "python3"
  },
  "language_info": {
   "codemirror_mode": {
    "name": "ipython",
    "version": 3
   },
   "file_extension": ".py",
   "mimetype": "text/x-python",
   "name": "python",
   "nbconvert_exporter": "python",
   "pygments_lexer": "ipython3",
   "version": "3.6.5"
  }
 },
 "nbformat": 4,
 "nbformat_minor": 2
}
